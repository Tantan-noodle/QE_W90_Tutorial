{
 "cells": [
  {
   "cell_type": "markdown",
   "id": "c8951d84-3f5f-4619-996c-04451c6abf3f",
   "metadata": {},
   "source": [
    "### Push to Github master\n",
    "`git push origin master`\n",
    "待研究，小心使用"
   ]
  },
  {
   "cell_type": "markdown",
   "id": "6d4dce02-3bba-4b1b-96e0-9f1b62b84733",
   "metadata": {
    "tags": []
   },
   "source": [
    "# Quantum ESPRESSO(QE) Tutorial on DFPT+U Tc calculation\n",
    "## ThFeAsN\n",
    "## Overview\n",
    "\n",
    "This tutorial aims to teach the calculation of electronic-phonon properties using Quantum Espresso.\\\n",
    "Here are some key parameters:\n",
    "#### QE inputs: \n",
    "- `*.upf` : Pseudopotential for QE DFT calculations. Norm-conserving pseudopotentials (ONCVPSP) are preferred for BerkeleyGW and EPW. Download [here](https://github.com/pipidog/ONCVPSP).\n",
    "- `scf.in` : Self-consistent calculation using a grid of k-points that is suitable for good self- consistency and phonon calculation.\n",
    "- `scf.fit.in` : Self-consistent calculation using a dense grid of k-points. The dense grid must contain all k and k+q grid points used in the subsequent electron-phonon calculation and must be dense enough to produce accurate electron-phonon coefficients.\n",
    "- `ph.in` : Input for QE phonon calculation. Make the phonon and electron-phonon calculation for the grid of q-points. The input variable electron phonon=’interpolated’ tells the ph.x code to do a linear interpolation of the electron-phonon matrix element using a double grid technique.\n",
    "- `q2r.in` : Bring the force constant and electron-phonon coefficient to real space using a Fourier transformation with the q2r.x program.\n",
    "- `lambda.in` : Input for QE electron-phonon coupling strength calculation.\n",
    "\n",
    "#### Useful references:\n",
    "1. [QE ph.x Input File Description](https://www.quantum-espresso.org/Doc/INPUT_PH.html#idm39)\n",
    "2. [PHonon User’s Guide](https://www.quantum-espresso.org/Doc/user_guide_PDF/ph_user_guide.pdf)\n",
    "3. [Electron-phonon coupling using Quantum Espresso](https://indico.ictp.it/event/8301/session/96/contribution/534/material/0/0.pdf)\n",
    "4. [New DFT+Hubbard input in Quantum ESPRESSO (since v.7.1)](https://www.quantum-espresso.org/Doc/user_guide_PDF/Hubbard_input.pdf)\n",
    "5. [DFT+U calculation](https://pranabdas.github.io/espresso/hands-on/dft-u/)\n",
    "6. [Hands-on: Advanced functionals Iurii Timrov](https://pranabdas.github.io/espresso/assets/files/dft+u-Iurii-Timrov-5f6cc931c153910b3ba506e9f5f1b9d5.pdf)\n",
    "7. [How to use pw.x and ph.x to calculate phonon\n",
    "frequencies of LiCoO2 with Hubbard U on Co 3d states.](https://github.com/QEF/q-e/tree/develop/PHonon/examples/example18)\n",
    "8. [Phonons and electron-phonon coupling using DFPT+U](https://www.materialscloud.org/learn/data/learn/files/teehl8BjS8A4/QE2022D2_Andrea_Floris_lecture.pdf)\n",
    "9. [QE school 2023 - 3.1 DFT+U and DFT+U+V: Basic concepts and applications](https://www.youtube.com/watch?v=1n4aBip0y8g)\n",
    "10. [Non-convergency of DFPT+U calculation](https://lists.quantum-espresso.org/pipermail/users/2020-March/044141.html)\n",
    "\n",
    "### Login to cluster\n",
    "NCTS cluster\n",
    "\n",
    "1. Download and open Termius [Download Termius](https://termius.com/download/macos)\n",
    "2. `ssh username@140.112.102.158`\n",
    "\n",
    "### QE electron-phonon calculations \n",
    "1. This tutorial is mainly follow the references[3] to calculate Tc using QE.\n",
    "2. Make `elph` directory. Make sure `*.upf`, `scf.in`, `scf.fit.in`, `ph.in`, `q2r.in`, and `lambda.in` are in the directory.\n",
    "3. First submit electronic structure jobs `job_scf.sh` and `job_scf_fit.sh`.\n",
    "4. After electronic structure jobs are finished. Then submit phonon job `job_ph.sh`\n",
    "5. Run `job_q2r.sh` then `job_lambda.sh`.\n",
    "6. Get `lambda` and `omega_log` from `lambda.out`.\n",
    "7. Fill in `lambda`, `omega_log`, and `mu` from `lambda.out` to `Tc.py` to get superconducting critical temperature Tc using the McMillan formula.\n",
    "\n",
    "### QE electron-phonon calculations with Hubbard corrections (DFT+U & DFPT+U)\n",
    "1. All the procedures are almost same with the previous introduced QE electron-phonon calculations. \n",
    "2. Only difference is to set \\\n",
    "\\\n",
    "HUBBARD (atomic) \\\n",
    "U Fe-3d 5.0\" \\\n",
    "\\\n",
    "in `scf.in`.\n",
    "3. Only Hubbard projector `atomic` can perform DFPT+U, although `ortho-atomic` is more accurate.\n",
    "4. According to references[10], phonons for metals with DFPT+U are hard to converge.\n",
    "5. I have not yet successfully converge phonon with DFPT+U for this material ThFeAsN."
   ]
  },
  {
   "cell_type": "markdown",
   "id": "08de7f94-766a-4ff0-822e-449feedef295",
   "metadata": {},
   "source": [
    "#### Tc.py"
   ]
  },
  {
   "cell_type": "code",
   "execution_count": 5,
   "id": "cf280caf-98c9-40bb-b23f-71c28c2a5ea7",
   "metadata": {},
   "outputs": [
    {
     "name": "stdout",
     "output_type": "stream",
     "text": [
      "Tc is : 0.000805824923900859\n"
     ]
    }
   ],
   "source": [
    "#!/usr/bin/env python3\n",
    "# -*- coding: utf-8 -*-\n",
    "\"\"\"\n",
    "Created on Mon Jul  1 16:32:14 2024\n",
    "\n",
    "@author: tommy\n",
    "\"\"\"\n",
    "\n",
    "import numpy as np\n",
    "\n",
    "def Tc(lmbda,omega_log,mu):\n",
    "    Tc = omega_log/1.2*np.exp((-1.04*(1+lmbda))/(lmbda*(1-0.62*mu)-mu))\n",
    "    print('Tc is :', Tc)\n",
    "    return \n",
    "\n",
    "#from lambda.out\n",
    "lmbda = 0.21620\n",
    "omega_log = 213.401 #unit: K\n",
    "mu = 0.1\n",
    "\n",
    "Tc(lmbda,omega_log,mu)\n",
    "\n"
   ]
  },
  {
   "cell_type": "markdown",
   "id": "a4c04ffb",
   "metadata": {},
   "source": [
    "### QE electron-phonon calculation"
   ]
  },
  {
   "cell_type": "markdown",
   "id": "7fe5a663",
   "metadata": {},
   "source": [
    "#### scf.in"
   ]
  },
  {
   "cell_type": "raw",
   "id": "ff8c454e-be57-4d99-9f62-8c1b50d57023",
   "metadata": {},
   "source": [
    "control\n",
    "                 calculation = 'scf' ,\n",
    "                restart_mode = 'from_scratch' ,\n",
    "                      outdir = './' ,\n",
    "                  pseudo_dir = './' ,\n",
    "                      prefix = 'ThFeAsN' ,\n",
    "                    verbosity='low'\n",
    " /\n",
    " &system\n",
    "                       ibrav = 0,\n",
    "                         nat = 8,\n",
    "                        ntyp = 4,\n",
    "                     ecutwfc = 60,\n",
    "                 occupations = 'smearing' ,\n",
    "                    smearing = 'gaussian' ,\n",
    "                    degauss  = 0.05\n",
    "                        la2F = .true.\n",
    " /\n",
    " &electrons\n",
    "    diagonalization = 'cg'\n",
    "    mixing_beta  = 0.7\n",
    "    conv_thr     = 1.0d-12\n",
    " /\n",
    "ATOMIC_SPECIES\n",
    "   N 14.0067 N.upf\n",
    "   Fe 55.845  Fe.upf\n",
    "   As 74.9216 As.upf\n",
    "   Th 232.0381 Th.upf\n",
    "\n",
    "CELL_PARAMETERS angstrom\n",
    "   4.0414 0.0000 0.0000\n",
    "   0.0000 4.0414 0.0000\n",
    "   0.0000 0.0000 8.5152\n",
    "\n",
    "ATOMIC_POSITIONS (crystal)\n",
    "N                0.7500000000        0.2500000000        0.0000000000\n",
    "N                0.2500000000        0.7500000000        0.0000000000\n",
    "Fe               0.7500000000        0.2500000000        0.5000000000\n",
    "Fe               0.2500000000        0.7500000000        0.5000000000\n",
    "As               0.2500000000        0.2500000000        0.6427660202\n",
    "As               0.7500000000        0.7500000000        0.3572339798\n",
    "Th               0.2500000000        0.2500000000        0.1377890460\n",
    "Th               0.7500000000        0.7500000000        0.8622109540\n",
    "\n",
    "K_POINTS (automatic)\n",
    "12 12 6 0 0 0"
   ]
  },
  {
   "cell_type": "markdown",
   "id": "6bb1143a-ef06-4651-a214-7deb09e4a660",
   "metadata": {},
   "source": [
    "#### scf.fit.in"
   ]
  },
  {
   "cell_type": "raw",
   "id": "b58eda60-0b57-4e75-8279-a345f55022dc",
   "metadata": {},
   "source": [
    "&control\n",
    "                 calculation = 'scf' ,\n",
    "                restart_mode = 'from_scratch' ,\n",
    "                      outdir = './' ,\n",
    "                  pseudo_dir = './' ,\n",
    "                      prefix = 'ThFeAsN' ,\n",
    "                    verbosity='low'\n",
    " /\n",
    " &system\n",
    "                       ibrav = 0,\n",
    "                         nat = 8,\n",
    "                        ntyp = 4,\n",
    "                     ecutwfc = 60,\n",
    "                 occupations = 'smearing' ,\n",
    "                    smearing = 'gaussian' ,\n",
    "                    degauss  = 0.05\n",
    "                        la2F = .true.\n",
    " /\n",
    " &electrons\n",
    "    diagonalization = 'cg'\n",
    "    mixing_beta  = 0.7\n",
    "    conv_thr     = 1.0d-12\n",
    " /\n",
    "ATOMIC_SPECIES\n",
    "   N 14.0067 N.upf\n",
    "   Fe 55.845  Fe.upf\n",
    "   As 74.9216 As.upf\n",
    "   Th 232.0381 Th.upf\n",
    "\n",
    "CELL_PARAMETERS angstrom\n",
    "   4.0414 0.0000 0.0000\n",
    "   0.0000 4.0414 0.0000\n",
    "   0.0000 0.0000 8.5152\n",
    "\n",
    "ATOMIC_POSITIONS (crystal)\n",
    "N                0.7500000000        0.2500000000        0.0000000000\n",
    "N                0.2500000000        0.7500000000        0.0000000000\n",
    "Fe               0.7500000000        0.2500000000        0.5000000000\n",
    "Fe               0.2500000000        0.7500000000        0.5000000000\n",
    "As               0.2500000000        0.2500000000        0.6427660202\n",
    "As               0.7500000000        0.7500000000        0.3572339798\n",
    "Th               0.2500000000        0.2500000000        0.1377890460\n",
    "Th               0.7500000000        0.7500000000        0.8622109540\n",
    "\n",
    "K_POINTS (automatic)\n",
    "12 12 6 0 0 0"
   ]
  },
  {
   "cell_type": "markdown",
   "id": "ea3e9cb5-c415-4e57-9aa1-db031bf57716",
   "metadata": {},
   "source": [
    "#### ph.in"
   ]
  },
  {
   "cell_type": "raw",
   "id": "6a20a9a9-97f0-471e-b7d0-6fcd86e09d2e",
   "metadata": {},
   "source": [
    "&inputph\n",
    "  recover  = .false.\n",
    "  prefix   = 'ThFeAsN',\n",
    "  fildyn   = 'ThFeAsN.dyn',\n",
    "  fildvscf = 'dvscf'\n",
    "  electron_phonon='interpolated',\n",
    "  el_ph_sigma=0.005,\n",
    "  el_ph_nsigma=10,\n",
    "  trans=.true.,\n",
    "  ldisp    = .true.,\n",
    "  nq1=6,\n",
    "  nq2=6,\n",
    "  nq3=3,\n",
    "  tr2_ph   =  1.0d-14,\n",
    "  nmix_ph = 16\n",
    " /"
   ]
  },
  {
   "cell_type": "markdown",
   "id": "e64f3fa4-b0ed-46ce-aaaa-a3f0680ebd73",
   "metadata": {},
   "source": [
    "#### q2r.in"
   ]
  },
  {
   "cell_type": "raw",
   "id": "c6046f98-bdf1-4c60-9159-8c3b22b23a5e",
   "metadata": {},
   "source": [
    "&INPUT\n",
    "  fildyn = 'ThFeAsN.dyn'\n",
    "  zasr = 'crystal'\n",
    "  flfrc = 'ThFeAsN.fc'\n",
    "  la2F = .true.\n",
    "/"
   ]
  },
  {
   "cell_type": "markdown",
   "id": "9183785c-94dc-4a6f-9f20-97e2ec75a64b",
   "metadata": {},
   "source": [
    "#### lambda.in"
   ]
  },
  {
   "cell_type": "raw",
   "id": "8ef1fe45-85c5-45b2-88eb-e8cf1be68f63",
   "metadata": {},
   "source": [
    "20  0.1  1    ! emax (something more than highest phonon mode in THz), degauss, smearing method\n",
    "   20          ! Number of q-points for which EPC is calculated\n",
    "   0.0000000  0.0000000  0.0000000   1.00  ! the first q-point, use kpoints.x program to calculate\n",
    "   0.1666667  0.0000000  0.0000000   4.00\n",
    "   0.3333333  0.0000000  0.0000000   4.00\n",
    "   0.5000000  0.0000000  0.0000000   2.00\n",
    "   0.1666667  0.1666667  0.0000000   4.00\n",
    "   0.3333333  0.1666667  0.0000000   8.00\n",
    "   0.5000000  0.1666667  0.0000000   4.00\n",
    "   0.3333333  0.3333333  0.0000000   4.00\n",
    "   0.5000000  0.3333333  0.0000000   4.00\n",
    "   0.5000000  0.5000000  0.0000000   1.00\n",
    "   0.0000000  0.0000000  0.1582028   2.00\n",
    "   0.1666667  0.0000000  0.1582028   8.00\n",
    "   0.3333333  0.0000000  0.1582028   8.00\n",
    "   0.5000000  0.0000000  0.1582028   4.00\n",
    "   0.1666667  0.1666667  0.1582028   8.00\n",
    "   0.3333333  0.1666667  0.1582028  16.00\n",
    "   0.5000000  0.1666667  0.1582028   8.00\n",
    "   0.3333333  0.3333333  0.1582028   8.00\n",
    "   0.5000000  0.3333333  0.1582028   8.00\n",
    "   0.5000000  0.5000000  0.1582028   2.00\n",
    "elph_dir/elph.inp_lambda.1  ! elph output file names\n",
    "elph_dir/elph.inp_lambda.2  ! in the same order as the q-points before\n",
    "elph_dir/elph.inp_lambda.3\n",
    "elph_dir/elph.inp_lambda.4\n",
    "elph_dir/elph.inp_lambda.5\n",
    "elph_dir/elph.inp_lambda.6\n",
    "elph_dir/elph.inp_lambda.7\n",
    "elph_dir/elph.inp_lambda.8\n",
    "elph_dir/elph.inp_lambda.9\n",
    "elph_dir/elph.inp_lambda.10\n",
    "elph_dir/elph.inp_lambda.11\n",
    "elph_dir/elph.inp_lambda.12\n",
    "elph_dir/elph.inp_lambda.13\n",
    "elph_dir/elph.inp_lambda.14\n",
    "elph_dir/elph.inp_lambda.15\n",
    "elph_dir/elph.inp_lambda.16\n",
    "elph_dir/elph.inp_lambda.17\n",
    "elph_dir/elph.inp_lambda.18\n",
    "elph_dir/elph.inp_lambda.19\n",
    "elph_dir/elph.inp_lambda.20\n",
    "0.10     ! \\mu the Coloumb coefficient in the modified"
   ]
  },
  {
   "cell_type": "markdown",
   "id": "73d9104f",
   "metadata": {},
   "source": [
    "#### Use `kpoints.x` to generate q-points for `lambda.in`.\n",
    "`~/qe-7.3.1/bin/kpoints.x` \\\n",
    "![kpoints.x](./kpts.png) \\\n",
    "`vi kpts` \\\n",
    "![kpts](./kpts_output.png)"
   ]
  },
  {
   "cell_type": "markdown",
   "id": "6b125e43-88bd-4f4c-95d1-efbc396655ad",
   "metadata": {},
   "source": [
    "#### job_scf.sh"
   ]
  },
  {
   "cell_type": "raw",
   "id": "35617268-9dfb-40e8-b48a-6b1cccb3c798",
   "metadata": {},
   "source": [
    "#!/bin/bash \n",
    "#SBATCH -A MST113008   # Account name/project number\n",
    "#SBATCH -p ctest\n",
    "#SBATCH -J qe_scf     # Job name\n",
    "#SBATCH -n 50     # Number of MPI tasks (i.e. processes)\n",
    "#SBATCH -c 1            # Number of cores per MPI task\n",
    "#SBATCH -t 00:30:00    # Wall time limit (days-hrs:min:sec)\n",
    "#SBATCH -o out\n",
    "#SBATCH -e err\n",
    "\n",
    "module purge\n",
    "ml python/3.12.2 intel/2021 intelmpi/2021.11\n",
    "\n",
    "#ml old-module\n",
    "#ml compiler/intel/2021 IntelMPI/2021 libs/ucx/1.11.2\n",
    "\n",
    "export OMP_NUM_THREADS=1\n",
    "\n",
    "mpiexec.hydra -n $SLURM_NPROCS /home/tommy246810/qe-7.3.1/bin/pw.x -inp scf.in > scf.out"
   ]
  },
  {
   "cell_type": "markdown",
   "id": "58513088-3784-46e8-8d45-5326aff68f50",
   "metadata": {},
   "source": [
    "#### job_scf_fit.sh"
   ]
  },
  {
   "cell_type": "raw",
   "id": "777afe23-2556-41a2-a769-c3c3859eb5fb",
   "metadata": {},
   "source": [
    "#!/bin/bash \n",
    "#SBATCH -A MST113008   # Account name/project number\n",
    "#SBATCH -p ctest\n",
    "#SBATCH -J qe_scf     # Job name\n",
    "#SBATCH -n 50     # Number of MPI tasks (i.e. processes)\n",
    "#SBATCH -c 1            # Number of cores per MPI task\n",
    "#SBATCH -t 00:30:00    # Wall time limit (days-hrs:min:sec)\n",
    "#SBATCH -o out\n",
    "#SBATCH -e err\n",
    "\n",
    "module purge\n",
    "ml python/3.12.2 intel/2021 intelmpi/2021.11\n",
    "\n",
    "#ml old-module\n",
    "#ml compiler/intel/2021 IntelMPI/2021 libs/ucx/1.11.2\n",
    "\n",
    "export OMP_NUM_THREADS=1\n",
    "\n",
    "mpiexec.hydra -n $SLURM_NPROCS /home/tommy246810/qe-7.3.1/bin/pw.x -inp scf.fit.in > scf.fit.out"
   ]
  },
  {
   "cell_type": "markdown",
   "id": "c77a9574",
   "metadata": {},
   "source": [
    "#### job_ph.sh"
   ]
  },
  {
   "cell_type": "raw",
   "id": "747f5a2e-d821-404d-99f5-7ab8c0249d88",
   "metadata": {},
   "source": [
    "#!/bin/sh\n",
    "### Job name\n",
    "#PBS -N ph_elph.qe\n",
    "#PBS -l nodes=node02:ppn=64\n",
    "\n",
    "cd $PBS_O_WORKDIR\n",
    "\n",
    "ulimit -s unlimited\n",
    "\n",
    "mpirun -n $PBS_NP /home/yshuang/qe-7.3.1/bin/ph.x < ph.in > ph.out\n",
    "\n",
    "print end time\n",
    "echo \"Job Ended at `date`\""
   ]
  },
  {
   "cell_type": "markdown",
   "id": "10f1b7db-dd09-45fb-a490-2b025473cf2b",
   "metadata": {},
   "source": [
    "#### job_q2r.sh"
   ]
  },
  {
   "cell_type": "raw",
   "id": "9ade90dc-83ac-4400-af8f-510ff19e8b8b",
   "metadata": {},
   "source": [
    "#!/bin/sh\n",
    "### Job name\n",
    "#PBS -N q2r.qe\n",
    "#PBS -l nodes=node02:ppn=64\n",
    "\n",
    "cd $PBS_O_WORKDIR\n",
    "\n",
    "ulimit -s unlimited\n",
    "\n",
    "mpirun -n $PBS_NP /home/yshuang/qe-7.3.1/bin/q2r.x -inp q2r.in > q2r.out\n",
    "\n",
    "print end time\n",
    "echo \"Job Ended at `date`\""
   ]
  },
  {
   "cell_type": "markdown",
   "id": "d09af42a-0d0f-45cb-ab60-792f7ecabd3d",
   "metadata": {},
   "source": [
    "#### job_lambda.sh"
   ]
  },
  {
   "cell_type": "raw",
   "id": "1da13970-bc03-4a9e-b850-550c5dfd372e",
   "metadata": {},
   "source": [
    "#!/bin/sh\n",
    "### Job name\n",
    "#PBS -N lambda.qe\n",
    "#PBS -l nodes=node02:ppn=64\n",
    "\n",
    "cd $PBS_O_WORKDIR\n",
    "\n",
    "ulimit -s unlimited\n",
    "\n",
    "mpirun -n $PBS_NP /home/yshuang/qe-7.3.1/bin/lambda.x < lambda.in > lambda.out\n",
    "\n",
    "print end time\n",
    "echo \"Job Ended at `date`\""
   ]
  }
 ],
 "metadata": {
  "kernelspec": {
   "display_name": "Python 3 (ipykernel)",
   "language": "python",
   "name": "python3"
  },
  "language_info": {
   "codemirror_mode": {
    "name": "ipython",
    "version": 3
   },
   "file_extension": ".py",
   "mimetype": "text/x-python",
   "name": "python",
   "nbconvert_exporter": "python",
   "pygments_lexer": "ipython3",
   "version": "3.11.5"
  }
 },
 "nbformat": 4,
 "nbformat_minor": 5
}
